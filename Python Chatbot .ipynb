{
 "cells": [
  {
   "cell_type": "markdown",
   "id": "1c55b81a",
   "metadata": {},
   "source": [
    "# CHATBOT in Python integrated with OPENAI API Key "
   ]
  },
  {
   "cell_type": "code",
   "execution_count": 2,
   "id": "7cb3a6ab",
   "metadata": {
    "scrolled": false
   },
   "outputs": [
    {
     "name": "stdout",
     "output_type": "stream",
     "text": [
      "Running on local URL:  http://127.0.0.1:7862\n",
      "\n",
      "Could not create share link. Please check your internet connection or our status page: https://status.gradio.app.\n"
     ]
    },
    {
     "data": {
      "text/html": [
       "<div><iframe src=\"http://127.0.0.1:7862/\" width=\"100%\" height=\"500\" allow=\"autoplay; camera; microphone; clipboard-read; clipboard-write;\" frameborder=\"0\" allowfullscreen></iframe></div>"
      ],
      "text/plain": [
       "<IPython.core.display.HTML object>"
      ]
     },
     "metadata": {},
     "output_type": "display_data"
    },
    {
     "data": {
      "text/plain": []
     },
     "execution_count": 2,
     "metadata": {},
     "output_type": "execute_result"
    }
   ],
   "source": [
    "# Import the required libraries\n",
    "import openai\n",
    "import gradio\n",
    "\n",
    "# Set your OpenAI API key\n",
    "openai.api_key = \"openai API key\"\n",
    "\n",
    "# Define the initial system message\n",
    "messages = [{\"role\": \"system\", \"content\": \"A  Helpful AI Assistant\"}]\n",
    "\n",
    "\n",
    "# Define the chatbot function\n",
    "def CustomChatGPT(user_input):\n",
    "    # Append the user's input to the messages list\n",
    "    messages.append({\"role\": \"user\", \"content\": user_input})\n",
    "\n",
    "    # Use the OpenAI API to get the chatbot's response\n",
    "    response = openai.ChatCompletion.create(\n",
    "        model=\"gpt-3.5-turbo\",\n",
    "        messages=messages\n",
    "    )\n",
    "\n",
    "    # Extract the chatbot's reply from the API response\n",
    "    ChatGPT_reply = response[\"choices\"][0][\"message\"][\"content\"]\n",
    "\n",
    "    # Append the chatbot's reply to the messages list\n",
    "    messages.append({\"role\": \"assistant\", \"content\": ChatGPT_reply})\n",
    "\n",
    "    # Return the chatbot's response\n",
    "    return ChatGPT_reply\n",
    "\n",
    "\n",
    "# Create the Gradio interface\n",
    "demo = gradio.Interface(fn=CustomChatGPT, inputs=\"text\", outputs=\"text\", title=\"CHATBOT by GOKUL RAJA\")\n",
    "\n",
    "# Launch the Gradio interface\n",
    "demo.launch(share=True)"
   ]
  }
 ],
 "metadata": {
  "kernelspec": {
   "display_name": "Python 3 (ipykernel)",
   "language": "python",
   "name": "python3"
  },
  "language_info": {
   "codemirror_mode": {
    "name": "ipython",
    "version": 3
   },
   "file_extension": ".py",
   "mimetype": "text/x-python",
   "name": "python",
   "nbconvert_exporter": "python",
   "pygments_lexer": "ipython3",
   "version": "3.10.9"
  }
 },
 "nbformat": 4,
 "nbformat_minor": 5
}
